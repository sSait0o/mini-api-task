{
  "cells": [
    {
      "cell_type": "markdown",
      "metadata": {
        "id": "HQXpwV98BDNU"
      },
      "source": [
        "# I - Python Programming\n",
        "\n",
        "## Oriented Object Programming (OOP)"
      ]
    },
    {
      "cell_type": "markdown",
      "metadata": {
        "id": "WEAK8K9aBDNV"
      },
      "source": [
        "A **`class`** is a **formal description** of how an object is designed, i.e. which attributes and methods it has: you can think of it as **a pattern or a structure**.\n",
        "\n",
        "Each specific object is then an **instance** of the **`class`** : they all work as described by the **`class`** definition, but each instance can have different characteristic values from another.\n",
        "\n",
        "Examples:\n",
        "- `Human` is a **`class`** and each person is an instance of the **`class`**\n",
        "- `Car` is a **`class`** and each car is an instance of the **`class`**\n",
        "\n",
        "Basically, **everything is an object in Python**."
      ]
    },
    {
      "cell_type": "markdown",
      "metadata": {
        "id": "lzphkOlsBDNW"
      },
      "source": [
        "![](https://vivreparis.fr/wp-content/uploads/2018/04/game-of-thrones-final-season-premiere-year-still-up-in-the-a_24c7.jpg?auto=format&fit=crop&w=1350&q=80)"
      ]
    },
    {
      "cell_type": "markdown",
      "metadata": {
        "id": "GUbeSaFaBDNW"
      },
      "source": [
        "# I. How does a `class` work?\n",
        "\n",
        "## I.1. Define a class and create instances\n",
        "\n",
        "Beware of conventions:\n",
        "- a filename is written in `lower_snake_case` (ex: **magic_dice.py**)\n",
        "- a class name is always written in `UpperCamelCase` (ex: `class MagicDice()``)"
      ]
    },
    {
      "cell_type": "code",
      "execution_count": null,
      "metadata": {
        "id": "W2wiO-NyBDNW"
      },
      "outputs": [],
      "source": [
        "# Let's define a claas to represent the way dices work\n",
        "class GotCharacter():\n",
        "    \"\"\"\n",
        "    An empty class representing characters of GOT.\n",
        "    \"\"\"\n",
        "    pass"
      ]
    },
    {
      "cell_type": "code",
      "execution_count": null,
      "metadata": {
        "id": "0GlzYmsuBDNW",
        "outputId": "46f59630-3453-473c-c5ea-b93eaae728b9"
      },
      "outputs": [
        {
          "name": "stdout",
          "output_type": "stream",
          "text": [
            "False\n"
          ]
        }
      ],
      "source": [
        "# Now we can create an instance of this class\n",
        "jon = GotCharacter()\n",
        "\n",
        "# In fact, we can creat as many instances as we want\n",
        "daenerys = GotCharacter()\n",
        "\n",
        "print(jon == daenerys)"
      ]
    },
    {
      "cell_type": "markdown",
      "metadata": {
        "id": "V7oyX5KYBDNX"
      },
      "source": [
        "Ok, so now we have two people, but they don't do anything right ? Let's improve this !"
      ]
    },
    {
      "cell_type": "markdown",
      "metadata": {
        "id": "dwMlSNJQBDNX"
      },
      "source": [
        "## II.2. Attributes\n",
        "\n",
        "Attributes describe the **characteristics (or the state)** of the class objects."
      ]
    },
    {
      "cell_type": "code",
      "execution_count": null,
      "metadata": {
        "id": "OmWVy5W_BDNX"
      },
      "outputs": [],
      "source": [
        "# Let's add (dynamically) some attributes to our characters\n",
        "jon.name = \"John Snow\"\n",
        "jon.position = \"The Wall\"\n",
        "jon.is_alive = True\n",
        "\n",
        "daenerys.name = \"Daenerys Targaryen\"\n",
        "daenerys.position = \"Mereen\"\n",
        "daenerys.is_alive = True"
      ]
    },
    {
      "cell_type": "markdown",
      "metadata": {
        "id": "zCcJst_RBDNX"
      },
      "source": [
        "> Be careful : this is **NOT** the proper way to create instance attributes, we'll see that just below."
      ]
    },
    {
      "cell_type": "code",
      "execution_count": null,
      "metadata": {
        "id": "T4uOCUNvBDNX",
        "outputId": "ff048a5d-6bfc-4b2e-aefa-f924419c02b1"
      },
      "outputs": [
        {
          "name": "stdout",
          "output_type": "stream",
          "text": [
            "The Wall\n",
            "True\n"
          ]
        }
      ],
      "source": [
        "# We can now check the values for each attributes of ours instances\n",
        "print(jon.position)\n",
        "print(daenerys.is_alive)"
      ]
    },
    {
      "cell_type": "markdown",
      "metadata": {
        "id": "nVtaWRNVBDNY"
      },
      "source": [
        "In fact, each instance has a dictionnary **`__dict__`**, which is used to store their attributes and their corresponding values"
      ]
    },
    {
      "cell_type": "code",
      "execution_count": null,
      "metadata": {
        "id": "zODVXko7BDNY",
        "outputId": "1ec9e3dc-dab0-4f88-ee96-498ef1e0536b"
      },
      "outputs": [
        {
          "data": {
            "text/plain": [
              "{'name': 'John Snow', 'position': 'The Wall', 'is_alive': True}"
            ]
          },
          "execution_count": 77,
          "metadata": {},
          "output_type": "execute_result"
        }
      ],
      "source": [
        "# We can use this __dict__ to check all the attributes at once\n",
        "jon.__dict__"
      ]
    },
    {
      "cell_type": "markdown",
      "metadata": {
        "id": "KSt2lkgVBDNY"
      },
      "source": [
        "## I.3. Methods\n",
        "\n",
        "Methods represent the **actions (or the behavior)** of the class objects. A method differs from a function only in two aspects:\n",
        "- it belongs to a class and it is defined **within** a class\n",
        "- the **first parameter** in the definition of a method has to be **a reference to the instance**, which called the method: this parameter is usually called `self`.\n"
      ]
    },
    {
      "cell_type": "code",
      "execution_count": null,
      "metadata": {
        "id": "_Ya-xuRXBDNY"
      },
      "outputs": [],
      "source": [
        "class GotCharacter():\n",
        "    \"\"\"\n",
        "    A class representing characters of GOT.\n",
        "    \"\"\"\n",
        "    def say_hello(self):\n",
        "        print(\"Hello\")\n",
        "\n",
        "jon = GotCharacter()"
      ]
    },
    {
      "cell_type": "code",
      "execution_count": null,
      "metadata": {
        "id": "yo8DYaJ3BDNY",
        "outputId": "db399f4d-3ae8-416a-f075-0cdbb603e9ce"
      },
      "outputs": [
        {
          "data": {
            "text/plain": [
              "{}"
            ]
          },
          "execution_count": 82,
          "metadata": {},
          "output_type": "execute_result"
        }
      ],
      "source": [
        "jon.__dict__"
      ]
    },
    {
      "cell_type": "code",
      "execution_count": null,
      "metadata": {
        "id": "eLOppD4NBDNY",
        "outputId": "424f37c1-0dee-404e-e6c3-e7486470417d"
      },
      "outputs": [
        {
          "name": "stdout",
          "output_type": "stream",
          "text": [
            "Hello\n"
          ]
        }
      ],
      "source": [
        "\n",
        "jon.say_hello()"
      ]
    },
    {
      "cell_type": "markdown",
      "metadata": {
        "id": "BWV5jy-EBDNY"
      },
      "source": [
        "# II. Special methods\n",
        "\n",
        "Special methods are a set of predefined methods you can use to enrich your classes. They let you **emulate the behavior of built-in types**.\n",
        "\n",
        "They are easy to recognize because they start and end with double underscores, for example `__init__` or `__str__`. These \"dunder methods\" or \"dunders\" are also sometimes called \"magic methods\"."
      ]
    },
    {
      "cell_type": "markdown",
      "metadata": {
        "id": "qBsw25H8BDNY"
      },
      "source": [
        "## II.1. `__init__` :  we can now properly define attributes with a `contructor`"
      ]
    },
    {
      "cell_type": "code",
      "execution_count": null,
      "metadata": {
        "id": "NxCAp9mWBDNY"
      },
      "outputs": [],
      "source": [
        "class GotCharacter():\n",
        "    \"\"\"\n",
        "    A class representing characters of GOT.\n",
        "    \"\"\"\n",
        "    def __init__(self, name=None, position=\"Unknown\", is_alive=True):\n",
        "        self.name = name\n",
        "        self.position = position\n",
        "        self.is_alive = is_alive"
      ]
    },
    {
      "cell_type": "markdown",
      "metadata": {
        "id": "cOpAvN8kBDNZ"
      },
      "source": [
        "- We can directly pass the attributes while creating the instances"
      ]
    },
    {
      "cell_type": "code",
      "execution_count": null,
      "metadata": {
        "id": "4XAYrM6hBDNZ"
      },
      "outputs": [],
      "source": [
        "jon = GotCharacter(\"John Snow\", \"The Wall\")"
      ]
    },
    {
      "cell_type": "code",
      "execution_count": null,
      "metadata": {
        "id": "oURw_UC8BDNZ",
        "outputId": "557fd694-d851-4f07-9325-28e6c13bf56f"
      },
      "outputs": [
        {
          "data": {
            "text/plain": [
              "{'name': 'Daenerys Targaryen', 'position': 'Mereen', 'is_alive': True}"
            ]
          },
          "execution_count": 86,
          "metadata": {},
          "output_type": "execute_result"
        }
      ],
      "source": [
        "daenerys = GotCharacter(\"Daenerys Targaryen\", \"Mereen\")\n",
        "\n",
        "daenerys.__dict__"
      ]
    },
    {
      "cell_type": "markdown",
      "metadata": {
        "id": "K-FamzWlBDNZ"
      },
      "source": [
        "- We can also elaborate more interesting methods"
      ]
    },
    {
      "cell_type": "code",
      "execution_count": null,
      "metadata": {
        "id": "WSQUDaCgBDNZ"
      },
      "outputs": [],
      "source": [
        "class GotCharacter():\n",
        "    \"\"\"\n",
        "    A class representing characters of GOT.\n",
        "    \"\"\"\n",
        "    def __init__(self, name=None, position=\"Unknown\", is_alive=True):\n",
        "        self.name = name\n",
        "        self.position = position\n",
        "        self.is_alive = is_alive\n",
        "\n",
        "    def die(self):\n",
        "        self.is_alive = False\n",
        "\n",
        "    def move_to(self, destination):\n",
        "        self.position = destination"
      ]
    },
    {
      "cell_type": "code",
      "execution_count": null,
      "metadata": {
        "id": "gcgb1HOtBDNZ",
        "outputId": "3fc09b8a-31c1-434f-d285-3383715ab490"
      },
      "outputs": [
        {
          "data": {
            "text/plain": [
              "'Dragonstone'"
            ]
          },
          "execution_count": 88,
          "metadata": {},
          "output_type": "execute_result"
        }
      ],
      "source": [
        "# Let's apply these methods to our characters\n",
        "daenerys = GotCharacter()\n",
        "daenerys.move_to(\"Dragonstone\")\n",
        "daenerys.position"
      ]
    },
    {
      "cell_type": "code",
      "execution_count": null,
      "metadata": {
        "id": "02R2nkZ-BDNZ",
        "outputId": "87ee2c8a-4e87-4c9f-865a-a91e993b5e8e"
      },
      "outputs": [
        {
          "data": {
            "text/plain": [
              "False"
            ]
          },
          "execution_count": 89,
          "metadata": {},
          "output_type": "execute_result"
        }
      ],
      "source": [
        "jon = GotCharacter()\n",
        "\n",
        "jon.die()\n",
        "jon.is_alive"
      ]
    },
    {
      "cell_type": "markdown",
      "metadata": {
        "id": "FhIvL2eQBDNZ"
      },
      "source": [
        "## II.2.  `__repr__`  and `__str__`\n",
        "\n",
        "### `__repr__` : what Python displays an object when you enter its name"
      ]
    },
    {
      "cell_type": "code",
      "execution_count": null,
      "metadata": {
        "id": "wkpK8aVVBDNZ"
      },
      "outputs": [],
      "source": [
        "class GotCharacter():\n",
        "    \"\"\"\n",
        "    A class representing characters of GOT.\n",
        "    \"\"\"\n",
        "    def __init__(self, name=None, position=\"Unknown\", is_alive=True):\n",
        "        self.name = name\n",
        "        self.position = position\n",
        "        self.is_alive = is_alive\n",
        "\n",
        "    def __repr__(self):\n",
        "        return self.name"
      ]
    },
    {
      "cell_type": "code",
      "execution_count": null,
      "metadata": {
        "id": "0QIQyoB5BDNZ",
        "outputId": "c45e194f-0ffc-40e2-91e0-b0a39057e846"
      },
      "outputs": [
        {
          "data": {
            "text/plain": [
              "<__main__.GotCharacter at 0x106373f40>"
            ]
          },
          "execution_count": 91,
          "metadata": {},
          "output_type": "execute_result"
        }
      ],
      "source": [
        "jon"
      ]
    },
    {
      "cell_type": "markdown",
      "metadata": {
        "id": "QNO087fpBDNZ"
      },
      "source": [
        "### `__str__`  : what Python displays when you `print` an object"
      ]
    },
    {
      "cell_type": "code",
      "execution_count": null,
      "metadata": {
        "id": "dTccFHvEBDNZ"
      },
      "outputs": [],
      "source": [
        "class GotCharacter():\n",
        "    \"\"\"\n",
        "    A class representing characters of GOT.\n",
        "    \"\"\"\n",
        "    def __init__(self, name=None, position=\"Unknown\", is_alive=True):\n",
        "        self.name = name\n",
        "        self.position = position\n",
        "        self.is_alive = is_alive\n",
        "\n",
        "    def __str__(self):\n",
        "        return self.name"
      ]
    },
    {
      "cell_type": "code",
      "execution_count": null,
      "metadata": {
        "id": "5nEmJ2wyBDNa",
        "outputId": "7bcdb8f6-e36c-4ca3-a149-2152e7b9a380"
      },
      "outputs": [
        {
          "data": {
            "text/plain": [
              "<__main__.GotCharacter at 0x10621f550>"
            ]
          },
          "execution_count": 26,
          "metadata": {},
          "output_type": "execute_result"
        }
      ],
      "source": [
        "jon"
      ]
    },
    {
      "cell_type": "code",
      "execution_count": null,
      "metadata": {
        "id": "hZ8HVcmwBDNa",
        "outputId": "8e34d197-17dd-43ae-d381-eba1c6ef5db5"
      },
      "outputs": [
        {
          "name": "stdout",
          "output_type": "stream",
          "text": [
            "<__main__.GotCharacter object at 0x10621f550>\n"
          ]
        }
      ],
      "source": [
        "print(jon)"
      ]
    },
    {
      "cell_type": "markdown",
      "metadata": {
        "id": "4ru8sGhRBDNa"
      },
      "source": [
        "## II.3. `__add__`"
      ]
    },
    {
      "cell_type": "code",
      "execution_count": null,
      "metadata": {
        "id": "NjrfCOPlBDNa"
      },
      "outputs": [],
      "source": [
        "class GotCharacter():\n",
        "    \"\"\"\n",
        "    A class representing characters of GOT.\n",
        "    \"\"\"\n",
        "    def __init__(self, name=None, position=\"Unknown\", is_alive=True):\n",
        "        self.name = name\n",
        "        self.position = position\n",
        "        self.is_alive = is_alive\n",
        "\n",
        "    def __add__(self, other):\n",
        "        return f\"{self.name} is in a relationship with {other.name}\""
      ]
    },
    {
      "cell_type": "code",
      "execution_count": null,
      "metadata": {
        "id": "wQTKFIt7BDNa",
        "outputId": "a0e30b56-9e59-4d47-8386-946101f59381"
      },
      "outputs": [
        {
          "data": {
            "text/plain": [
              "'jon is in a relationship with daenerys'"
            ]
          },
          "execution_count": 39,
          "metadata": {},
          "output_type": "execute_result"
        }
      ],
      "source": [
        "jon = GotCharacter(name='jon')\n",
        "daenerys = GotCharacter(name='daenerys')\n",
        "\n",
        "jon + daenerys"
      ]
    },
    {
      "cell_type": "markdown",
      "metadata": {
        "id": "H-Rh6XaZBDNa"
      },
      "source": [
        "> **There are a lot of special methods : don't forget to check the [documentation](https://docs.python.org/3/reference/datamodel.html)**"
      ]
    },
    {
      "cell_type": "markdown",
      "metadata": {
        "id": "_ZG7cPxQBDNa"
      },
      "source": [
        "# III. Inheritance and overriding\n",
        "\n",
        "- A class can inherit attributes and behaviour methods from another class, called the **superclass** or parent class.\n",
        "- A class which inherits from a superclass is called a **subclass** or child class."
      ]
    },
    {
      "cell_type": "code",
      "execution_count": null,
      "metadata": {
        "id": "4WPA_qfQBDNa"
      },
      "outputs": [],
      "source": [
        "# Definition of a subclass\n",
        "class Stark(GotCharacter):\n",
        "    pass"
      ]
    },
    {
      "cell_type": "code",
      "execution_count": null,
      "metadata": {
        "id": "oA3ZC10pBDNa"
      },
      "outputs": [],
      "source": [
        "arya = Stark(\"Arya Stark\", \"King's Landing\")"
      ]
    },
    {
      "cell_type": "markdown",
      "metadata": {
        "id": "n0FritK4BDNa"
      },
      "source": [
        "### `isinstance()`"
      ]
    },
    {
      "cell_type": "code",
      "execution_count": null,
      "metadata": {
        "id": "LDWICszOBDNb",
        "outputId": "c11e9365-34a9-4350-d1c3-4eefe74f174c"
      },
      "outputs": [
        {
          "data": {
            "text/plain": [
              "False"
            ]
          },
          "execution_count": 42,
          "metadata": {},
          "output_type": "execute_result"
        }
      ],
      "source": [
        "isinstance(jon, Stark)"
      ]
    },
    {
      "cell_type": "code",
      "execution_count": null,
      "metadata": {
        "id": "MAib6gyNBDNb",
        "outputId": "eeb7bbe7-4806-4b7d-d24e-9ea739251dde"
      },
      "outputs": [
        {
          "data": {
            "text/plain": [
              "True"
            ]
          },
          "execution_count": 43,
          "metadata": {},
          "output_type": "execute_result"
        }
      ],
      "source": [
        "isinstance(jon, GotCharacter)"
      ]
    },
    {
      "cell_type": "code",
      "execution_count": null,
      "metadata": {
        "id": "wCgVTN_IBDNb",
        "outputId": "e8deb899-f9fa-46c4-884b-8e131e209930"
      },
      "outputs": [
        {
          "data": {
            "text/plain": [
              "True"
            ]
          },
          "execution_count": 44,
          "metadata": {},
          "output_type": "execute_result"
        }
      ],
      "source": [
        "isinstance(arya, Stark)"
      ]
    },
    {
      "cell_type": "code",
      "execution_count": null,
      "metadata": {
        "id": "0STvqtUhBDNb",
        "outputId": "530082ad-5f2f-4254-e0da-ba6b44b0517e"
      },
      "outputs": [
        {
          "data": {
            "text/plain": [
              "True"
            ]
          },
          "execution_count": 45,
          "metadata": {},
          "output_type": "execute_result"
        }
      ],
      "source": [
        "isinstance(arya, GotCharacter)"
      ]
    },
    {
      "cell_type": "markdown",
      "metadata": {
        "id": "feQITQTdBDNb"
      },
      "source": [
        "### Overriding\n",
        "\n",
        "Method overriding allows a subclass to provide **a different implementation** of a method that is already defined by its superclass or by one of its superclasses.\n",
        "\n",
        "The implementation in the subclass overrides the implementation of the superclass by providing a method with the same name, same parameters or signature, and same return type as the method of the parent class."
      ]
    },
    {
      "cell_type": "code",
      "execution_count": null,
      "metadata": {
        "id": "aFjuGNm3BDNb"
      },
      "outputs": [],
      "source": [
        "class Stark(GotCharacter):\n",
        "    def die(self):\n",
        "        print(\"Stark house never really dies!\")"
      ]
    },
    {
      "cell_type": "code",
      "execution_count": null,
      "metadata": {
        "id": "iSeLg70BBDNb",
        "outputId": "9cb3c87c-8786-4521-974f-405fe82731a5"
      },
      "outputs": [
        {
          "name": "stdout",
          "output_type": "stream",
          "text": [
            "Stark house never really dies!\n"
          ]
        },
        {
          "data": {
            "text/plain": [
              "True"
            ]
          },
          "execution_count": 48,
          "metadata": {},
          "output_type": "execute_result"
        }
      ],
      "source": [
        "arya = Stark()\n",
        "arya.die()\n",
        "arya.is_alive"
      ]
    },
    {
      "cell_type": "markdown",
      "metadata": {
        "id": "fRgRXGehBDNb"
      },
      "source": [
        "### `super()`"
      ]
    },
    {
      "cell_type": "code",
      "execution_count": null,
      "metadata": {
        "id": "U6Ldh6sRBDNb"
      },
      "outputs": [],
      "source": [
        "# We can override `__init__` by using `super()`to retrive the parent `__init__()` and adding new attributes.\n",
        "class Stark(GotCharacter):\n",
        "    def __init__(self, name=None, position=\"Unknown\", is_alive=True):\n",
        "        super().__init__(name=None, position=\"Unknown\", is_alive=True)\n",
        "        self.house = \"Stark\""
      ]
    },
    {
      "cell_type": "code",
      "execution_count": null,
      "metadata": {
        "id": "EmQt2xjaBDNb",
        "outputId": "8d5d0739-bb8c-496b-fb30-120454e01f3b"
      },
      "outputs": [
        {
          "data": {
            "text/plain": [
              "{'name': None, 'position': 'Unknown', 'is_alive': True}"
            ]
          },
          "execution_count": 50,
          "metadata": {},
          "output_type": "execute_result"
        }
      ],
      "source": [
        "arya.__dict__"
      ]
    },
    {
      "cell_type": "code",
      "execution_count": null,
      "metadata": {
        "id": "Z9UlSugcBDNb"
      },
      "outputs": [],
      "source": [
        "# We could also write:\n",
        "class Stark(GotCharacter):\n",
        "    def __init__(self, name=None, position=\"Unknown\", is_alive=True):\n",
        "        GotCharacter.__init__(self, name=None, position=\"Unknown\", is_alive=True)\n",
        "        self.house = \"Stark\"\n",
        "\n",
        "# But in that case, we loose a precious information : the dependency relation between the Stark class\n",
        "# and its parent class."
      ]
    },
    {
      "cell_type": "markdown",
      "metadata": {
        "id": "I1xfjLGlBDNb"
      },
      "source": [
        "# IV. Encapsulation\n",
        "\n",
        "We can **restrict access to methods and variables** in order to prevent the data from being modified by accident. This is known as encapsulation."
      ]
    },
    {
      "cell_type": "markdown",
      "metadata": {
        "id": "kMc8hMZ0BDNc"
      },
      "source": [
        "### Private variables and private methods\n",
        "\n",
        "They are accessible only in their own class, but not from outside. Their name starts with a double underscore `__`."
      ]
    },
    {
      "cell_type": "code",
      "execution_count": null,
      "metadata": {
        "id": "EWuhPYiyBDNc"
      },
      "outputs": [],
      "source": [
        "class GotCharacter():\n",
        "    \"\"\"\n",
        "    A class representing characters of GOT.\n",
        "    \"\"\"\n",
        "    def __init__(self, name=None, position=\"Unknown\", is_alive=True):\n",
        "        self.__name = name\n",
        "        self.__position = position\n",
        "        self.__is_alive = is_alive\n",
        "\n",
        "    def __pretend_to_die(self):\n",
        "        print(\"I'm dead\")"
      ]
    },
    {
      "cell_type": "code",
      "execution_count": null,
      "metadata": {
        "id": "RWlrt_FLBDNc",
        "outputId": "45245e17-fa4f-442c-9a8b-1e830b05001c"
      },
      "outputs": [
        {
          "ename": "AttributeError",
          "evalue": "'GotCharacter' object has no attribute '__name'",
          "output_type": "error",
          "traceback": [
            "\u001b[0;31m---------------------------------------------------------------------------\u001b[0m",
            "\u001b[0;31mAttributeError\u001b[0m                            Traceback (most recent call last)",
            "Input \u001b[0;32mIn [59]\u001b[0m, in \u001b[0;36m<cell line: 2>\u001b[0;34m()\u001b[0m\n\u001b[1;32m      1\u001b[0m jon \u001b[38;5;241m=\u001b[39m GotCharacter()\n\u001b[0;32m----> 2\u001b[0m \u001b[43mjon\u001b[49m\u001b[38;5;241;43m.\u001b[39;49m\u001b[43m__name\u001b[49m\n",
            "\u001b[0;31mAttributeError\u001b[0m: 'GotCharacter' object has no attribute '__name'"
          ]
        }
      ],
      "source": [
        "jon = GotCharacter()\n",
        "jon.__name"
      ]
    },
    {
      "cell_type": "code",
      "execution_count": null,
      "metadata": {
        "id": "JeFaCD-oBDNc",
        "outputId": "83aaccc4-565e-4153-e31c-4dd068bbc091"
      },
      "outputs": [
        {
          "ename": "AttributeError",
          "evalue": "'GotCharacter' object has no attribute '__pretend_to_die'",
          "output_type": "error",
          "traceback": [
            "\u001b[0;31m---------------------------------------------------------------------------\u001b[0m",
            "\u001b[0;31mAttributeError\u001b[0m                            Traceback (most recent call last)",
            "Input \u001b[0;32mIn [60]\u001b[0m, in \u001b[0;36m<cell line: 1>\u001b[0;34m()\u001b[0m\n\u001b[0;32m----> 1\u001b[0m \u001b[43mjon\u001b[49m\u001b[38;5;241;43m.\u001b[39;49m\u001b[43m__pretend_to_die\u001b[49m()\n",
            "\u001b[0;31mAttributeError\u001b[0m: 'GotCharacter' object has no attribute '__pretend_to_die'"
          ]
        }
      ],
      "source": [
        "jon.__pretend_to_die()"
      ]
    },
    {
      "cell_type": "markdown",
      "metadata": {
        "id": "aKEX_FlnBDNc"
      },
      "source": [
        "### Properties\n",
        "\n",
        "We write properties to control the access to private variables."
      ]
    },
    {
      "cell_type": "code",
      "execution_count": null,
      "metadata": {
        "id": "DjgRSpwxBDNc"
      },
      "outputs": [],
      "source": [
        "class GotCharacter():\n",
        "    \"\"\"\n",
        "    A class representing characters of GOT.\n",
        "    \"\"\"\n",
        "    def __init__(self, name=None, position=\"Unknown\", is_alive=True):\n",
        "        self.__name = name\n",
        "        self.__position = position\n",
        "        self.__is_alive = is_alive\n",
        "\n",
        "    @property\n",
        "    def position(self):\n",
        "        return self.__position\n",
        "\n",
        "    @position.setter\n",
        "    def position(self, position):\n",
        "        self.__position = position\n",
        "\n",
        "    @property\n",
        "    def name(self):\n",
        "        return self.__name\n",
        "\n",
        "jon = GotCharacter(\"Jon Snow\", \"The Wall\")"
      ]
    },
    {
      "cell_type": "code",
      "execution_count": null,
      "metadata": {
        "id": "9wtMt8IgBDNc",
        "outputId": "a0768a56-597a-4f70-97ff-71baba2710dd"
      },
      "outputs": [
        {
          "ename": "AttributeError",
          "evalue": "'GotCharacter' object has no attribute '__position'",
          "output_type": "error",
          "traceback": [
            "\u001b[0;31m---------------------------------------------------------------------------\u001b[0m",
            "\u001b[0;31mAttributeError\u001b[0m                            Traceback (most recent call last)",
            "Input \u001b[0;32mIn [66]\u001b[0m, in \u001b[0;36m<cell line: 2>\u001b[0;34m()\u001b[0m\n\u001b[1;32m      1\u001b[0m \u001b[38;5;66;03m# We cannot directly access the private attribute `__position`\u001b[39;00m\n\u001b[0;32m----> 2\u001b[0m \u001b[43mjon\u001b[49m\u001b[38;5;241;43m.\u001b[39;49m\u001b[43m__position\u001b[49m\n",
            "\u001b[0;31mAttributeError\u001b[0m: 'GotCharacter' object has no attribute '__position'"
          ]
        }
      ],
      "source": [
        "# We cannot directly access the private attribute `__position`\n",
        "jon.__position"
      ]
    },
    {
      "cell_type": "code",
      "execution_count": null,
      "metadata": {
        "id": "t9YyZTzDBDNc",
        "outputId": "6ba449e3-604c-47dc-cdd7-7139b3d65b74"
      },
      "outputs": [
        {
          "data": {
            "text/plain": [
              "'The Wall'"
            ]
          },
          "execution_count": 67,
          "metadata": {},
          "output_type": "execute_result"
        }
      ],
      "source": [
        "# We access it thanks to the `@property`\n",
        "jon.position"
      ]
    },
    {
      "cell_type": "code",
      "execution_count": null,
      "metadata": {
        "id": "mT_eYXyTBDNc",
        "outputId": "4a3b0547-c057-4e51-e504-543fd61817b1"
      },
      "outputs": [
        {
          "data": {
            "text/plain": [
              "'Beyond the Wall'"
            ]
          },
          "execution_count": 68,
          "metadata": {},
          "output_type": "execute_result"
        }
      ],
      "source": [
        "# We can also change it thanks to the `setter`\n",
        "jon.position = \"Beyond the Wall\"\n",
        "jon.position"
      ]
    },
    {
      "cell_type": "markdown",
      "metadata": {
        "id": "-JixdcCGBDNc"
      },
      "source": [
        "#### What's the point in doing this ? We have a **better control access**. See in the following example:"
      ]
    },
    {
      "cell_type": "code",
      "execution_count": null,
      "metadata": {
        "id": "2BmRlBujBDNc",
        "outputId": "e07401cd-3220-48d7-da68-3a8039290b7c"
      },
      "outputs": [
        {
          "ename": "AttributeError",
          "evalue": "'GotCharacter' object has no attribute '__name'",
          "output_type": "error",
          "traceback": [
            "\u001b[0;31m---------------------------------------------------------------------------\u001b[0m",
            "\u001b[0;31mAttributeError\u001b[0m                            Traceback (most recent call last)",
            "Input \u001b[0;32mIn [69]\u001b[0m, in \u001b[0;36m<cell line: 2>\u001b[0;34m()\u001b[0m\n\u001b[1;32m      1\u001b[0m \u001b[38;5;66;03m# We cannont directly access the private attribute `__name`\u001b[39;00m\n\u001b[0;32m----> 2\u001b[0m \u001b[43mjon\u001b[49m\u001b[38;5;241;43m.\u001b[39;49m\u001b[43m__name\u001b[49m\n",
            "\u001b[0;31mAttributeError\u001b[0m: 'GotCharacter' object has no attribute '__name'"
          ]
        }
      ],
      "source": [
        "# We cannont directly access the private attribute `__name`\n",
        "jon.__name"
      ]
    },
    {
      "cell_type": "code",
      "execution_count": null,
      "metadata": {
        "id": "bRG1GrpzBDNc",
        "outputId": "accd1a39-67ab-4d76-bf90-b81f3a61b690"
      },
      "outputs": [
        {
          "data": {
            "text/plain": [
              "'Jon Snow'"
            ]
          },
          "execution_count": 70,
          "metadata": {},
          "output_type": "execute_result"
        }
      ],
      "source": [
        "# We access it thanks to the `@property`\n",
        "jon.name"
      ]
    },
    {
      "cell_type": "code",
      "execution_count": null,
      "metadata": {
        "id": "WP98YHA3BDNc",
        "outputId": "6924f430-98e4-45ed-8364-9a2055bfc387"
      },
      "outputs": [
        {
          "ename": "AttributeError",
          "evalue": "can't set attribute",
          "output_type": "error",
          "traceback": [
            "\u001b[0;31m---------------------------------------------------------------------------\u001b[0m",
            "\u001b[0;31mAttributeError\u001b[0m                            Traceback (most recent call last)",
            "Input \u001b[0;32mIn [71]\u001b[0m, in \u001b[0;36m<cell line: 2>\u001b[0;34m()\u001b[0m\n\u001b[1;32m      1\u001b[0m \u001b[38;5;66;03m# But there's no setter, so we cannot change it\u001b[39;00m\n\u001b[0;32m----> 2\u001b[0m jon\u001b[38;5;241m.\u001b[39mname \u001b[38;5;241m=\u001b[39m \u001b[38;5;124m\"\u001b[39m\u001b[38;5;124mJon Stark\u001b[39m\u001b[38;5;124m\"\u001b[39m\n",
            "\u001b[0;31mAttributeError\u001b[0m: can't set attribute"
          ]
        }
      ],
      "source": [
        "# But there's no setter, so we cannot change it\n",
        "jon.name = \"Jon Stark\""
      ]
    }
  ],
  "metadata": {
    "kernelspec": {
      "display_name": "Python 3 (ipykernel)",
      "language": "python",
      "name": "python3"
    },
    "language_info": {
      "codemirror_mode": {
        "name": "ipython",
        "version": 3
      },
      "file_extension": ".py",
      "mimetype": "text/x-python",
      "name": "python",
      "nbconvert_exporter": "python",
      "pygments_lexer": "ipython3",
      "version": "3.9.2"
    },
    "colab": {
      "provenance": []
    }
  },
  "nbformat": 4,
  "nbformat_minor": 0
}